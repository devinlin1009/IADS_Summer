{
  "nbformat": 4,
  "nbformat_minor": 0,
  "metadata": {
    "colab": {
      "name": "demo-IADS.ipynb",
      "provenance": [],
      "authorship_tag": "ABX9TyNSsucz+weXuWoCtgtgpGBo",
      "include_colab_link": true
    },
    "kernelspec": {
      "name": "python3",
      "display_name": "Python 3"
    },
    "language_info": {
      "name": "python"
    }
  },
  "cells": [
    {
      "cell_type": "markdown",
      "metadata": {
        "id": "view-in-github",
        "colab_type": "text"
      },
      "source": [
        "<a href=\"https://colab.research.google.com/github/devinlin1009/IADS_Summer/blob/main/demo_IADS.ipynb\" target=\"_parent\"><img src=\"https://colab.research.google.com/assets/colab-badge.svg\" alt=\"Open In Colab\"/></a>"
      ]
    },
    {
      "cell_type": "markdown",
      "metadata": {
        "id": "kvx2btxuD8yD"
      },
      "source": [
        "#IADS Summer School\n",
        "##Hi\n",
        "###What's up"
      ]
    },
    {
      "cell_type": "code",
      "metadata": {
        "colab": {
          "base_uri": "https://localhost:8080/"
        },
        "id": "ZVazz0rED0WK",
        "outputId": "3d7315d9-dc92-4790-ecfd-3c663c8b5203"
      },
      "source": [
        "#This is the first code at IADS Summer School\n",
        "print(\"Welcome to the summer school\")"
      ],
      "execution_count": 1,
      "outputs": [
        {
          "output_type": "stream",
          "text": [
            "Welcome to the summer school\n"
          ],
          "name": "stdout"
        }
      ]
    }
  ]
}